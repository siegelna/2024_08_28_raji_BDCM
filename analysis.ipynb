{
 "cells": [
  {
   "cell_type": "code",
   "execution_count": 47,
   "metadata": {
    "vscode": {
     "languageId": "r"
    }
   },
   "outputs": [],
   "source": [
    "suppressPackageStartupMessages({\n",
    "    library(dplyr)\n",
    "    library(ggplot2)\n",
    "    library(biomaRt)\n",
    "    library(dplyr)\n",
    "})"
   ]
  },
  {
   "cell_type": "code",
   "execution_count": 48,
   "metadata": {
    "vscode": {
     "languageId": "r"
    }
   },
   "outputs": [],
   "source": [
    "counts <- read.table(\"CCLE_RNAseq_rsem_genes_tpm_20180929.txt.gz\", header = TRUE, row.names = 1) "
   ]
  },
  {
   "cell_type": "code",
   "execution_count": 49,
   "metadata": {
    "vscode": {
     "languageId": "r"
    }
   },
   "outputs": [
    {
     "data": {
      "text/html": [
       "<table class=\"dataframe\">\n",
       "<caption>A matrix: 6 × 3 of type dbl</caption>\n",
       "<thead>\n",
       "\t<tr><th></th><th scope=col>BDCM_HAEMATOPOIETIC_AND_LYMPHOID_TISSUE</th><th scope=col>JURKAT_HAEMATOPOIETIC_AND_LYMPHOID_TISSUE</th><th scope=col>RAJI_HAEMATOPOIETIC_AND_LYMPHOID_TISSUE</th></tr>\n",
       "</thead>\n",
       "<tbody>\n",
       "\t<tr><th scope=row>ENSG00000000003</th><td>  0.21</td><td> 0.01</td><td>  0.05</td></tr>\n",
       "\t<tr><th scope=row>ENSG00000000005</th><td>  0.00</td><td> 0.00</td><td>  0.00</td></tr>\n",
       "\t<tr><th scope=row>ENSG00000000419</th><td> 62.89</td><td>52.84</td><td> 62.54</td></tr>\n",
       "\t<tr><th scope=row>ENSG00000000457</th><td>  8.03</td><td> 4.96</td><td>  3.76</td></tr>\n",
       "\t<tr><th scope=row>ENSG00000000460</th><td> 19.71</td><td>34.04</td><td> 12.04</td></tr>\n",
       "\t<tr><th scope=row>ENSG00000000938</th><td>119.26</td><td> 0.54</td><td>117.44</td></tr>\n",
       "</tbody>\n",
       "</table>\n"
      ],
      "text/latex": [
       "A matrix: 6 × 3 of type dbl\n",
       "\\begin{tabular}{r|lll}\n",
       "  & BDCM\\_HAEMATOPOIETIC\\_AND\\_LYMPHOID\\_TISSUE & JURKAT\\_HAEMATOPOIETIC\\_AND\\_LYMPHOID\\_TISSUE & RAJI\\_HAEMATOPOIETIC\\_AND\\_LYMPHOID\\_TISSUE\\\\\n",
       "\\hline\n",
       "\tENSG00000000003 &   0.21 &  0.01 &   0.05\\\\\n",
       "\tENSG00000000005 &   0.00 &  0.00 &   0.00\\\\\n",
       "\tENSG00000000419 &  62.89 & 52.84 &  62.54\\\\\n",
       "\tENSG00000000457 &   8.03 &  4.96 &   3.76\\\\\n",
       "\tENSG00000000460 &  19.71 & 34.04 &  12.04\\\\\n",
       "\tENSG00000000938 & 119.26 &  0.54 & 117.44\\\\\n",
       "\\end{tabular}\n"
      ],
      "text/markdown": [
       "\n",
       "A matrix: 6 × 3 of type dbl\n",
       "\n",
       "| <!--/--> | BDCM_HAEMATOPOIETIC_AND_LYMPHOID_TISSUE | JURKAT_HAEMATOPOIETIC_AND_LYMPHOID_TISSUE | RAJI_HAEMATOPOIETIC_AND_LYMPHOID_TISSUE |\n",
       "|---|---|---|---|\n",
       "| ENSG00000000003 |   0.21 |  0.01 |   0.05 |\n",
       "| ENSG00000000005 |   0.00 |  0.00 |   0.00 |\n",
       "| ENSG00000000419 |  62.89 | 52.84 |  62.54 |\n",
       "| ENSG00000000457 |   8.03 |  4.96 |   3.76 |\n",
       "| ENSG00000000460 |  19.71 | 34.04 |  12.04 |\n",
       "| ENSG00000000938 | 119.26 |  0.54 | 117.44 |\n",
       "\n"
      ],
      "text/plain": [
       "                BDCM_HAEMATOPOIETIC_AND_LYMPHOID_TISSUE\n",
       "ENSG00000000003   0.21                                 \n",
       "ENSG00000000005   0.00                                 \n",
       "ENSG00000000419  62.89                                 \n",
       "ENSG00000000457   8.03                                 \n",
       "ENSG00000000460  19.71                                 \n",
       "ENSG00000000938 119.26                                 \n",
       "                JURKAT_HAEMATOPOIETIC_AND_LYMPHOID_TISSUE\n",
       "ENSG00000000003  0.01                                    \n",
       "ENSG00000000005  0.00                                    \n",
       "ENSG00000000419 52.84                                    \n",
       "ENSG00000000457  4.96                                    \n",
       "ENSG00000000460 34.04                                    \n",
       "ENSG00000000938  0.54                                    \n",
       "                RAJI_HAEMATOPOIETIC_AND_LYMPHOID_TISSUE\n",
       "ENSG00000000003   0.05                                 \n",
       "ENSG00000000005   0.00                                 \n",
       "ENSG00000000419  62.54                                 \n",
       "ENSG00000000457   3.76                                 \n",
       "ENSG00000000460  12.04                                 \n",
       "ENSG00000000938 117.44                                 "
      ]
     },
     "metadata": {},
     "output_type": "display_data"
    }
   ],
   "source": [
    "# Select cells of interest\n",
    "patterns <- c(\"Raji\", \"BDCM\", \"Jurkat\")\n",
    "selected_columns <- colnames(counts)[apply(sapply(patterns, function(p) grepl(p, colnames(counts), ignore.case = TRUE)), 1, any)]\n",
    "counts <- counts[, selected_columns]\n",
    "\n",
    "# Clean up data\n",
    "rownames(counts) <- gsub(\"\\\\..*\", \"\", rownames(counts))\n",
    "counts <- as.matrix(counts)\n",
    "head(counts)"
   ]
  },
  {
   "cell_type": "code",
   "execution_count": 50,
   "metadata": {
    "vscode": {
     "languageId": "r"
    }
   },
   "outputs": [
    {
     "data": {
      "text/html": [
       "<table class=\"dataframe\">\n",
       "<caption>A data.frame: 6 × 2</caption>\n",
       "<thead>\n",
       "\t<tr><th></th><th scope=col>ensembl_gene_id</th><th scope=col>external_gene_name</th></tr>\n",
       "\t<tr><th></th><th scope=col>&lt;chr&gt;</th><th scope=col>&lt;chr&gt;</th></tr>\n",
       "</thead>\n",
       "<tbody>\n",
       "\t<tr><th scope=row>1</th><td>ENSG00000000003</td><td>TSPAN6</td></tr>\n",
       "\t<tr><th scope=row>2</th><td>ENSG00000000005</td><td>TNMD  </td></tr>\n",
       "\t<tr><th scope=row>3</th><td>ENSG00000000419</td><td>DPM1  </td></tr>\n",
       "\t<tr><th scope=row>4</th><td>ENSG00000000457</td><td>SCYL3 </td></tr>\n",
       "\t<tr><th scope=row>5</th><td>ENSG00000000460</td><td>FIRRM </td></tr>\n",
       "\t<tr><th scope=row>6</th><td>ENSG00000000938</td><td>FGR   </td></tr>\n",
       "</tbody>\n",
       "</table>\n"
      ],
      "text/latex": [
       "A data.frame: 6 × 2\n",
       "\\begin{tabular}{r|ll}\n",
       "  & ensembl\\_gene\\_id & external\\_gene\\_name\\\\\n",
       "  & <chr> & <chr>\\\\\n",
       "\\hline\n",
       "\t1 & ENSG00000000003 & TSPAN6\\\\\n",
       "\t2 & ENSG00000000005 & TNMD  \\\\\n",
       "\t3 & ENSG00000000419 & DPM1  \\\\\n",
       "\t4 & ENSG00000000457 & SCYL3 \\\\\n",
       "\t5 & ENSG00000000460 & FIRRM \\\\\n",
       "\t6 & ENSG00000000938 & FGR   \\\\\n",
       "\\end{tabular}\n"
      ],
      "text/markdown": [
       "\n",
       "A data.frame: 6 × 2\n",
       "\n",
       "| <!--/--> | ensembl_gene_id &lt;chr&gt; | external_gene_name &lt;chr&gt; |\n",
       "|---|---|---|\n",
       "| 1 | ENSG00000000003 | TSPAN6 |\n",
       "| 2 | ENSG00000000005 | TNMD   |\n",
       "| 3 | ENSG00000000419 | DPM1   |\n",
       "| 4 | ENSG00000000457 | SCYL3  |\n",
       "| 5 | ENSG00000000460 | FIRRM  |\n",
       "| 6 | ENSG00000000938 | FGR    |\n",
       "\n"
      ],
      "text/plain": [
       "  ensembl_gene_id external_gene_name\n",
       "1 ENSG00000000003 TSPAN6            \n",
       "2 ENSG00000000005 TNMD              \n",
       "3 ENSG00000000419 DPM1              \n",
       "4 ENSG00000000457 SCYL3             \n",
       "5 ENSG00000000460 FIRRM             \n",
       "6 ENSG00000000938 FGR               "
      ]
     },
     "metadata": {},
     "output_type": "display_data"
    }
   ],
   "source": [
    "mart <- useMart(\"ensembl\", dataset = \"hsapiens_gene_ensembl\")\n",
    "ensembl_annot <- getBM(attributes=c(\"ensembl_gene_id\",\"external_gene_name\"),\n",
    "                       filters = \"ensembl_gene_id\",\n",
    "                       values = rownames(counts), \n",
    "                       mart = mart)\n",
    "head(ensembl_annot)"
   ]
  },
  {
   "cell_type": "code",
   "execution_count": 51,
   "metadata": {
    "vscode": {
     "languageId": "r"
    }
   },
   "outputs": [
    {
     "data": {
      "text/html": [
       "<table class=\"dataframe\">\n",
       "<caption>A data.frame: 6 × 3</caption>\n",
       "<thead>\n",
       "\t<tr><th></th><th scope=col>BDCM_HAEMATOPOIETIC_AND_LYMPHOID_TISSUE</th><th scope=col>JURKAT_HAEMATOPOIETIC_AND_LYMPHOID_TISSUE</th><th scope=col>RAJI_HAEMATOPOIETIC_AND_LYMPHOID_TISSUE</th></tr>\n",
       "\t<tr><th></th><th scope=col>&lt;dbl&gt;</th><th scope=col>&lt;dbl&gt;</th><th scope=col>&lt;dbl&gt;</th></tr>\n",
       "</thead>\n",
       "<tbody>\n",
       "\t<tr><th scope=row>TSPAN6</th><td>  0.21</td><td> 0.01</td><td>  0.05</td></tr>\n",
       "\t<tr><th scope=row>TNMD</th><td>  0.00</td><td> 0.00</td><td>  0.00</td></tr>\n",
       "\t<tr><th scope=row>DPM1</th><td> 62.89</td><td>52.84</td><td> 62.54</td></tr>\n",
       "\t<tr><th scope=row>SCYL3</th><td>  8.03</td><td> 4.96</td><td>  3.76</td></tr>\n",
       "\t<tr><th scope=row>FIRRM</th><td> 19.71</td><td>34.04</td><td> 12.04</td></tr>\n",
       "\t<tr><th scope=row>FGR</th><td>119.26</td><td> 0.54</td><td>117.44</td></tr>\n",
       "</tbody>\n",
       "</table>\n"
      ],
      "text/latex": [
       "A data.frame: 6 × 3\n",
       "\\begin{tabular}{r|lll}\n",
       "  & BDCM\\_HAEMATOPOIETIC\\_AND\\_LYMPHOID\\_TISSUE & JURKAT\\_HAEMATOPOIETIC\\_AND\\_LYMPHOID\\_TISSUE & RAJI\\_HAEMATOPOIETIC\\_AND\\_LYMPHOID\\_TISSUE\\\\\n",
       "  & <dbl> & <dbl> & <dbl>\\\\\n",
       "\\hline\n",
       "\tTSPAN6 &   0.21 &  0.01 &   0.05\\\\\n",
       "\tTNMD &   0.00 &  0.00 &   0.00\\\\\n",
       "\tDPM1 &  62.89 & 52.84 &  62.54\\\\\n",
       "\tSCYL3 &   8.03 &  4.96 &   3.76\\\\\n",
       "\tFIRRM &  19.71 & 34.04 &  12.04\\\\\n",
       "\tFGR & 119.26 &  0.54 & 117.44\\\\\n",
       "\\end{tabular}\n"
      ],
      "text/markdown": [
       "\n",
       "A data.frame: 6 × 3\n",
       "\n",
       "| <!--/--> | BDCM_HAEMATOPOIETIC_AND_LYMPHOID_TISSUE &lt;dbl&gt; | JURKAT_HAEMATOPOIETIC_AND_LYMPHOID_TISSUE &lt;dbl&gt; | RAJI_HAEMATOPOIETIC_AND_LYMPHOID_TISSUE &lt;dbl&gt; |\n",
       "|---|---|---|---|\n",
       "| TSPAN6 |   0.21 |  0.01 |   0.05 |\n",
       "| TNMD |   0.00 |  0.00 |   0.00 |\n",
       "| DPM1 |  62.89 | 52.84 |  62.54 |\n",
       "| SCYL3 |   8.03 |  4.96 |   3.76 |\n",
       "| FIRRM |  19.71 | 34.04 |  12.04 |\n",
       "| FGR | 119.26 |  0.54 | 117.44 |\n",
       "\n"
      ],
      "text/plain": [
       "       BDCM_HAEMATOPOIETIC_AND_LYMPHOID_TISSUE\n",
       "TSPAN6   0.21                                 \n",
       "TNMD     0.00                                 \n",
       "DPM1    62.89                                 \n",
       "SCYL3    8.03                                 \n",
       "FIRRM   19.71                                 \n",
       "FGR    119.26                                 \n",
       "       JURKAT_HAEMATOPOIETIC_AND_LYMPHOID_TISSUE\n",
       "TSPAN6  0.01                                    \n",
       "TNMD    0.00                                    \n",
       "DPM1   52.84                                    \n",
       "SCYL3   4.96                                    \n",
       "FIRRM  34.04                                    \n",
       "FGR     0.54                                    \n",
       "       RAJI_HAEMATOPOIETIC_AND_LYMPHOID_TISSUE\n",
       "TSPAN6   0.05                                 \n",
       "TNMD     0.00                                 \n",
       "DPM1    62.54                                 \n",
       "SCYL3    3.76                                 \n",
       "FIRRM   12.04                                 \n",
       "FGR    117.44                                 "
      ]
     },
     "metadata": {},
     "output_type": "display_data"
    }
   ],
   "source": [
    "cols <- as.data.frame(rownames(counts))\n",
    "new_names <- left_join(cols, ensembl_annot, by = c(\"rownames(counts)\" = \"ensembl_gene_id\"))\n",
    "rownames(counts) <- new_names$external_gene_name\n",
    "count_df <- as.data.frame(counts)\n",
    "head(count_df)"
   ]
  },
  {
   "cell_type": "code",
   "execution_count": 56,
   "metadata": {
    "vscode": {
     "languageId": "r"
    }
   },
   "outputs": [],
   "source": [
    "genes <- c(\n",
    "  \"CD3G\",\n",
    "  \"CD274\",\n",
    "  \"PDCD1\",\n",
    "  \"PDCD1LG2\"\n",
    "\n",
    ")"
   ]
  },
  {
   "cell_type": "code",
   "execution_count": 57,
   "metadata": {
    "vscode": {
     "languageId": "r"
    }
   },
   "outputs": [
    {
     "data": {
      "text/html": [
       "<table class=\"dataframe\">\n",
       "<caption>A data.frame: 4 × 3</caption>\n",
       "<thead>\n",
       "\t<tr><th></th><th scope=col>BDCM_HAEMATOPOIETIC_AND_LYMPHOID_TISSUE</th><th scope=col>JURKAT_HAEMATOPOIETIC_AND_LYMPHOID_TISSUE</th><th scope=col>RAJI_HAEMATOPOIETIC_AND_LYMPHOID_TISSUE</th></tr>\n",
       "\t<tr><th></th><th scope=col>&lt;dbl&gt;</th><th scope=col>&lt;dbl&gt;</th><th scope=col>&lt;dbl&gt;</th></tr>\n",
       "</thead>\n",
       "<tbody>\n",
       "\t<tr><th scope=row>CD274</th><td>32.45</td><td> 1.44</td><td>0.67</td></tr>\n",
       "\t<tr><th scope=row>CD3G</th><td> 0.00</td><td>95.19</td><td>0.05</td></tr>\n",
       "\t<tr><th scope=row>PDCD1</th><td> 2.12</td><td> 1.03</td><td>0.00</td></tr>\n",
       "\t<tr><th scope=row>PDCD1LG2</th><td> 9.88</td><td> 0.02</td><td>0.15</td></tr>\n",
       "</tbody>\n",
       "</table>\n"
      ],
      "text/latex": [
       "A data.frame: 4 × 3\n",
       "\\begin{tabular}{r|lll}\n",
       "  & BDCM\\_HAEMATOPOIETIC\\_AND\\_LYMPHOID\\_TISSUE & JURKAT\\_HAEMATOPOIETIC\\_AND\\_LYMPHOID\\_TISSUE & RAJI\\_HAEMATOPOIETIC\\_AND\\_LYMPHOID\\_TISSUE\\\\\n",
       "  & <dbl> & <dbl> & <dbl>\\\\\n",
       "\\hline\n",
       "\tCD274 & 32.45 &  1.44 & 0.67\\\\\n",
       "\tCD3G &  0.00 & 95.19 & 0.05\\\\\n",
       "\tPDCD1 &  2.12 &  1.03 & 0.00\\\\\n",
       "\tPDCD1LG2 &  9.88 &  0.02 & 0.15\\\\\n",
       "\\end{tabular}\n"
      ],
      "text/markdown": [
       "\n",
       "A data.frame: 4 × 3\n",
       "\n",
       "| <!--/--> | BDCM_HAEMATOPOIETIC_AND_LYMPHOID_TISSUE &lt;dbl&gt; | JURKAT_HAEMATOPOIETIC_AND_LYMPHOID_TISSUE &lt;dbl&gt; | RAJI_HAEMATOPOIETIC_AND_LYMPHOID_TISSUE &lt;dbl&gt; |\n",
       "|---|---|---|---|\n",
       "| CD274 | 32.45 |  1.44 | 0.67 |\n",
       "| CD3G |  0.00 | 95.19 | 0.05 |\n",
       "| PDCD1 |  2.12 |  1.03 | 0.00 |\n",
       "| PDCD1LG2 |  9.88 |  0.02 | 0.15 |\n",
       "\n"
      ],
      "text/plain": [
       "         BDCM_HAEMATOPOIETIC_AND_LYMPHOID_TISSUE\n",
       "CD274    32.45                                  \n",
       "CD3G      0.00                                  \n",
       "PDCD1     2.12                                  \n",
       "PDCD1LG2  9.88                                  \n",
       "         JURKAT_HAEMATOPOIETIC_AND_LYMPHOID_TISSUE\n",
       "CD274     1.44                                    \n",
       "CD3G     95.19                                    \n",
       "PDCD1     1.03                                    \n",
       "PDCD1LG2  0.02                                    \n",
       "         RAJI_HAEMATOPOIETIC_AND_LYMPHOID_TISSUE\n",
       "CD274    0.67                                   \n",
       "CD3G     0.05                                   \n",
       "PDCD1    0.00                                   \n",
       "PDCD1LG2 0.15                                   "
      ]
     },
     "metadata": {},
     "output_type": "display_data"
    }
   ],
   "source": [
    "filtered_df <- count_df[rownames(count_df) %in% genes, ]\n",
    "filtered_df"
   ]
  },
  {
   "cell_type": "code",
   "execution_count": 60,
   "metadata": {
    "vscode": {
     "languageId": "r"
    }
   },
   "outputs": [
    {
     "data": {
      "text/html": [
       "<table class=\"dataframe\">\n",
       "<caption>A data.frame: 4 × 3</caption>\n",
       "<thead>\n",
       "\t<tr><th></th><th scope=col>BDCM Counts (tpm)</th><th scope=col>JURKAT Counts (tpm)</th><th scope=col>RAJI Counts (tpm)</th></tr>\n",
       "\t<tr><th></th><th scope=col>&lt;dbl&gt;</th><th scope=col>&lt;dbl&gt;</th><th scope=col>&lt;dbl&gt;</th></tr>\n",
       "</thead>\n",
       "<tbody>\n",
       "\t<tr><th scope=row>CD274</th><td>32.45</td><td> 1.44</td><td>0.67</td></tr>\n",
       "\t<tr><th scope=row>CD3G</th><td> 0.00</td><td>95.19</td><td>0.05</td></tr>\n",
       "\t<tr><th scope=row>PDCD1</th><td> 2.12</td><td> 1.03</td><td>0.00</td></tr>\n",
       "\t<tr><th scope=row>PDCD1LG2</th><td> 9.88</td><td> 0.02</td><td>0.15</td></tr>\n",
       "</tbody>\n",
       "</table>\n"
      ],
      "text/latex": [
       "A data.frame: 4 × 3\n",
       "\\begin{tabular}{r|lll}\n",
       "  & BDCM Counts (tpm) & JURKAT Counts (tpm) & RAJI Counts (tpm)\\\\\n",
       "  & <dbl> & <dbl> & <dbl>\\\\\n",
       "\\hline\n",
       "\tCD274 & 32.45 &  1.44 & 0.67\\\\\n",
       "\tCD3G &  0.00 & 95.19 & 0.05\\\\\n",
       "\tPDCD1 &  2.12 &  1.03 & 0.00\\\\\n",
       "\tPDCD1LG2 &  9.88 &  0.02 & 0.15\\\\\n",
       "\\end{tabular}\n"
      ],
      "text/markdown": [
       "\n",
       "A data.frame: 4 × 3\n",
       "\n",
       "| <!--/--> | BDCM Counts (tpm) &lt;dbl&gt; | JURKAT Counts (tpm) &lt;dbl&gt; | RAJI Counts (tpm) &lt;dbl&gt; |\n",
       "|---|---|---|---|\n",
       "| CD274 | 32.45 |  1.44 | 0.67 |\n",
       "| CD3G |  0.00 | 95.19 | 0.05 |\n",
       "| PDCD1 |  2.12 |  1.03 | 0.00 |\n",
       "| PDCD1LG2 |  9.88 |  0.02 | 0.15 |\n",
       "\n"
      ],
      "text/plain": [
       "         BDCM Counts (tpm) JURKAT Counts (tpm) RAJI Counts (tpm)\n",
       "CD274    32.45              1.44               0.67             \n",
       "CD3G      0.00             95.19               0.05             \n",
       "PDCD1     2.12              1.03               0.00             \n",
       "PDCD1LG2  9.88              0.02               0.15             "
      ]
     },
     "metadata": {},
     "output_type": "display_data"
    }
   ],
   "source": [
    "filtered_df <- count_df %>%\n",
    "    dplyr::filter(rownames(.) %in% genes)%>%\n",
    "    dplyr::mutate(is_lil = grepl(\"^LIL\", rownames(.))) %>% \n",
    "    dplyr::arrange(desc(is_lil), rownames(.)) %>%\n",
    "    dplyr::select(-is_lil) %>%\n",
    "    dplyr::rename(\n",
    "        `BDCM Counts (tpm)` = BDCM_HAEMATOPOIETIC_AND_LYMPHOID_TISSUE,\n",
    "        `RAJI Counts (tpm)` = RAJI_HAEMATOPOIETIC_AND_LYMPHOID_TISSUE,\n",
    "        `JURKAT Counts (tpm)` = JURKAT_HAEMATOPOIETIC_AND_LYMPHOID_TISSUE)\n",
    "filtered_df"
   ]
  },
  {
   "cell_type": "code",
   "execution_count": 61,
   "metadata": {
    "vscode": {
     "languageId": "r"
    }
   },
   "outputs": [],
   "source": [
    "write.table(filtered_df, \"result.csv\", sep = \",\", row.names = FALSE)"
   ]
  }
 ],
 "metadata": {
  "kernelspec": {
   "display_name": "R",
   "language": "R",
   "name": "ir"
  },
  "language_info": {
   "codemirror_mode": "r",
   "file_extension": ".r",
   "mimetype": "text/x-r-source",
   "name": "R",
   "pygments_lexer": "r",
   "version": "4.3.3"
  }
 },
 "nbformat": 4,
 "nbformat_minor": 2
}
