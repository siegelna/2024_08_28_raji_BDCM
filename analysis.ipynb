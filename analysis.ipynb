{
 "cells": [
  {
   "cell_type": "code",
   "execution_count": 1,
   "metadata": {
    "vscode": {
     "languageId": "r"
    }
   },
   "outputs": [],
   "source": [
    "suppressPackageStartupMessages({\n",
    "    library(dplyr)\n",
    "    library(ggplot2)\n",
    "    library(biomaRt)\n",
    "    library(dplyr)\n",
    "})"
   ]
  },
  {
   "cell_type": "code",
   "execution_count": 31,
   "metadata": {
    "vscode": {
     "languageId": "r"
    }
   },
   "outputs": [],
   "source": [
    "counts <- read.table(\"CCLE_RNAseq_rsem_genes_tpm_20180929.txt\", header = TRUE, row.names = 1) "
   ]
  },
  {
   "cell_type": "code",
   "execution_count": 32,
   "metadata": {
    "vscode": {
     "languageId": "r"
    }
   },
   "outputs": [
    {
     "data": {
      "text/html": [
       "<table class=\"dataframe\">\n",
       "<caption>A matrix: 6 × 4 of type dbl</caption>\n",
       "<thead>\n",
       "\t<tr><th></th><th scope=col>BDCM_HAEMATOPOIETIC_AND_LYMPHOID_TISSUE</th><th scope=col>MEC1_HAEMATOPOIETIC_AND_LYMPHOID_TISSUE</th><th scope=col>MOLP8_HAEMATOPOIETIC_AND_LYMPHOID_TISSUE</th><th scope=col>RAJI_HAEMATOPOIETIC_AND_LYMPHOID_TISSUE</th></tr>\n",
       "</thead>\n",
       "<tbody>\n",
       "\t<tr><th scope=row>ENSG00000000003</th><td>  0.21</td><td> 0.83</td><td>  0.10</td><td>  0.05</td></tr>\n",
       "\t<tr><th scope=row>ENSG00000000005</th><td>  0.00</td><td> 0.00</td><td>  0.00</td><td>  0.00</td></tr>\n",
       "\t<tr><th scope=row>ENSG00000000419</th><td> 62.89</td><td>89.76</td><td> 58.30</td><td> 62.54</td></tr>\n",
       "\t<tr><th scope=row>ENSG00000000457</th><td>  8.03</td><td> 6.73</td><td>  8.26</td><td>  3.76</td></tr>\n",
       "\t<tr><th scope=row>ENSG00000000460</th><td> 19.71</td><td>11.22</td><td> 10.05</td><td> 12.04</td></tr>\n",
       "\t<tr><th scope=row>ENSG00000000938</th><td>119.26</td><td>62.63</td><td>102.65</td><td>117.44</td></tr>\n",
       "</tbody>\n",
       "</table>\n"
      ],
      "text/latex": [
       "A matrix: 6 × 4 of type dbl\n",
       "\\begin{tabular}{r|llll}\n",
       "  & BDCM\\_HAEMATOPOIETIC\\_AND\\_LYMPHOID\\_TISSUE & MEC1\\_HAEMATOPOIETIC\\_AND\\_LYMPHOID\\_TISSUE & MOLP8\\_HAEMATOPOIETIC\\_AND\\_LYMPHOID\\_TISSUE & RAJI\\_HAEMATOPOIETIC\\_AND\\_LYMPHOID\\_TISSUE\\\\\n",
       "\\hline\n",
       "\tENSG00000000003 &   0.21 &  0.83 &   0.10 &   0.05\\\\\n",
       "\tENSG00000000005 &   0.00 &  0.00 &   0.00 &   0.00\\\\\n",
       "\tENSG00000000419 &  62.89 & 89.76 &  58.30 &  62.54\\\\\n",
       "\tENSG00000000457 &   8.03 &  6.73 &   8.26 &   3.76\\\\\n",
       "\tENSG00000000460 &  19.71 & 11.22 &  10.05 &  12.04\\\\\n",
       "\tENSG00000000938 & 119.26 & 62.63 & 102.65 & 117.44\\\\\n",
       "\\end{tabular}\n"
      ],
      "text/markdown": [
       "\n",
       "A matrix: 6 × 4 of type dbl\n",
       "\n",
       "| <!--/--> | BDCM_HAEMATOPOIETIC_AND_LYMPHOID_TISSUE | MEC1_HAEMATOPOIETIC_AND_LYMPHOID_TISSUE | MOLP8_HAEMATOPOIETIC_AND_LYMPHOID_TISSUE | RAJI_HAEMATOPOIETIC_AND_LYMPHOID_TISSUE |\n",
       "|---|---|---|---|---|\n",
       "| ENSG00000000003 |   0.21 |  0.83 |   0.10 |   0.05 |\n",
       "| ENSG00000000005 |   0.00 |  0.00 |   0.00 |   0.00 |\n",
       "| ENSG00000000419 |  62.89 | 89.76 |  58.30 |  62.54 |\n",
       "| ENSG00000000457 |   8.03 |  6.73 |   8.26 |   3.76 |\n",
       "| ENSG00000000460 |  19.71 | 11.22 |  10.05 |  12.04 |\n",
       "| ENSG00000000938 | 119.26 | 62.63 | 102.65 | 117.44 |\n",
       "\n"
      ],
      "text/plain": [
       "                BDCM_HAEMATOPOIETIC_AND_LYMPHOID_TISSUE\n",
       "ENSG00000000003   0.21                                 \n",
       "ENSG00000000005   0.00                                 \n",
       "ENSG00000000419  62.89                                 \n",
       "ENSG00000000457   8.03                                 \n",
       "ENSG00000000460  19.71                                 \n",
       "ENSG00000000938 119.26                                 \n",
       "                MEC1_HAEMATOPOIETIC_AND_LYMPHOID_TISSUE\n",
       "ENSG00000000003  0.83                                  \n",
       "ENSG00000000005  0.00                                  \n",
       "ENSG00000000419 89.76                                  \n",
       "ENSG00000000457  6.73                                  \n",
       "ENSG00000000460 11.22                                  \n",
       "ENSG00000000938 62.63                                  \n",
       "                MOLP8_HAEMATOPOIETIC_AND_LYMPHOID_TISSUE\n",
       "ENSG00000000003   0.10                                  \n",
       "ENSG00000000005   0.00                                  \n",
       "ENSG00000000419  58.30                                  \n",
       "ENSG00000000457   8.26                                  \n",
       "ENSG00000000460  10.05                                  \n",
       "ENSG00000000938 102.65                                  \n",
       "                RAJI_HAEMATOPOIETIC_AND_LYMPHOID_TISSUE\n",
       "ENSG00000000003   0.05                                 \n",
       "ENSG00000000005   0.00                                 \n",
       "ENSG00000000419  62.54                                 \n",
       "ENSG00000000457   3.76                                 \n",
       "ENSG00000000460  12.04                                 \n",
       "ENSG00000000938 117.44                                 "
      ]
     },
     "metadata": {},
     "output_type": "display_data"
    }
   ],
   "source": [
    "# Select cells of interest\n",
    "patterns <- c(\"Raji\", \"BDCM\", \"MOLP8\", \"TMD8\", \"MEC1\")\n",
    "selected_columns <- colnames(counts)[apply(sapply(patterns, function(p) grepl(p, colnames(counts), ignore.case = TRUE)), 1, any)]\n",
    "counts <- counts[, selected_columns]\n",
    "\n",
    "# Clean up data\n",
    "rownames(counts) <- gsub(\"\\\\..*\", \"\", rownames(counts))\n",
    "counts <- as.matrix(counts)\n",
    "head(counts)"
   ]
  },
  {
   "cell_type": "code",
   "execution_count": 33,
   "metadata": {
    "vscode": {
     "languageId": "r"
    }
   },
   "outputs": [
    {
     "data": {
      "text/html": [
       "<table class=\"dataframe\">\n",
       "<caption>A data.frame: 6 × 2</caption>\n",
       "<thead>\n",
       "\t<tr><th></th><th scope=col>ensembl_gene_id</th><th scope=col>external_gene_name</th></tr>\n",
       "\t<tr><th></th><th scope=col>&lt;chr&gt;</th><th scope=col>&lt;chr&gt;</th></tr>\n",
       "</thead>\n",
       "<tbody>\n",
       "\t<tr><th scope=row>1</th><td>ENSG00000000003</td><td>TSPAN6</td></tr>\n",
       "\t<tr><th scope=row>2</th><td>ENSG00000000005</td><td>TNMD  </td></tr>\n",
       "\t<tr><th scope=row>3</th><td>ENSG00000000419</td><td>DPM1  </td></tr>\n",
       "\t<tr><th scope=row>4</th><td>ENSG00000000457</td><td>SCYL3 </td></tr>\n",
       "\t<tr><th scope=row>5</th><td>ENSG00000000460</td><td>FIRRM </td></tr>\n",
       "\t<tr><th scope=row>6</th><td>ENSG00000000938</td><td>FGR   </td></tr>\n",
       "</tbody>\n",
       "</table>\n"
      ],
      "text/latex": [
       "A data.frame: 6 × 2\n",
       "\\begin{tabular}{r|ll}\n",
       "  & ensembl\\_gene\\_id & external\\_gene\\_name\\\\\n",
       "  & <chr> & <chr>\\\\\n",
       "\\hline\n",
       "\t1 & ENSG00000000003 & TSPAN6\\\\\n",
       "\t2 & ENSG00000000005 & TNMD  \\\\\n",
       "\t3 & ENSG00000000419 & DPM1  \\\\\n",
       "\t4 & ENSG00000000457 & SCYL3 \\\\\n",
       "\t5 & ENSG00000000460 & FIRRM \\\\\n",
       "\t6 & ENSG00000000938 & FGR   \\\\\n",
       "\\end{tabular}\n"
      ],
      "text/markdown": [
       "\n",
       "A data.frame: 6 × 2\n",
       "\n",
       "| <!--/--> | ensembl_gene_id &lt;chr&gt; | external_gene_name &lt;chr&gt; |\n",
       "|---|---|---|\n",
       "| 1 | ENSG00000000003 | TSPAN6 |\n",
       "| 2 | ENSG00000000005 | TNMD   |\n",
       "| 3 | ENSG00000000419 | DPM1   |\n",
       "| 4 | ENSG00000000457 | SCYL3  |\n",
       "| 5 | ENSG00000000460 | FIRRM  |\n",
       "| 6 | ENSG00000000938 | FGR    |\n",
       "\n"
      ],
      "text/plain": [
       "  ensembl_gene_id external_gene_name\n",
       "1 ENSG00000000003 TSPAN6            \n",
       "2 ENSG00000000005 TNMD              \n",
       "3 ENSG00000000419 DPM1              \n",
       "4 ENSG00000000457 SCYL3             \n",
       "5 ENSG00000000460 FIRRM             \n",
       "6 ENSG00000000938 FGR               "
      ]
     },
     "metadata": {},
     "output_type": "display_data"
    }
   ],
   "source": [
    "mart <- useMart(\"ensembl\", dataset = \"hsapiens_gene_ensembl\")\n",
    "ensembl_annot <- getBM(attributes=c(\"ensembl_gene_id\",\"external_gene_name\"),\n",
    "                       filters = \"ensembl_gene_id\",\n",
    "                       values = rownames(counts), \n",
    "                       mart = mart)\n",
    "head(ensembl_annot)"
   ]
  },
  {
   "cell_type": "code",
   "execution_count": 34,
   "metadata": {
    "vscode": {
     "languageId": "r"
    }
   },
   "outputs": [
    {
     "data": {
      "text/html": [
       "<table class=\"dataframe\">\n",
       "<caption>A data.frame: 6 × 4</caption>\n",
       "<thead>\n",
       "\t<tr><th></th><th scope=col>BDCM_HAEMATOPOIETIC_AND_LYMPHOID_TISSUE</th><th scope=col>MEC1_HAEMATOPOIETIC_AND_LYMPHOID_TISSUE</th><th scope=col>MOLP8_HAEMATOPOIETIC_AND_LYMPHOID_TISSUE</th><th scope=col>RAJI_HAEMATOPOIETIC_AND_LYMPHOID_TISSUE</th></tr>\n",
       "\t<tr><th></th><th scope=col>&lt;dbl&gt;</th><th scope=col>&lt;dbl&gt;</th><th scope=col>&lt;dbl&gt;</th><th scope=col>&lt;dbl&gt;</th></tr>\n",
       "</thead>\n",
       "<tbody>\n",
       "\t<tr><th scope=row>TSPAN6</th><td>  0.21</td><td> 0.83</td><td>  0.10</td><td>  0.05</td></tr>\n",
       "\t<tr><th scope=row>TNMD</th><td>  0.00</td><td> 0.00</td><td>  0.00</td><td>  0.00</td></tr>\n",
       "\t<tr><th scope=row>DPM1</th><td> 62.89</td><td>89.76</td><td> 58.30</td><td> 62.54</td></tr>\n",
       "\t<tr><th scope=row>SCYL3</th><td>  8.03</td><td> 6.73</td><td>  8.26</td><td>  3.76</td></tr>\n",
       "\t<tr><th scope=row>FIRRM</th><td> 19.71</td><td>11.22</td><td> 10.05</td><td> 12.04</td></tr>\n",
       "\t<tr><th scope=row>FGR</th><td>119.26</td><td>62.63</td><td>102.65</td><td>117.44</td></tr>\n",
       "</tbody>\n",
       "</table>\n"
      ],
      "text/latex": [
       "A data.frame: 6 × 4\n",
       "\\begin{tabular}{r|llll}\n",
       "  & BDCM\\_HAEMATOPOIETIC\\_AND\\_LYMPHOID\\_TISSUE & MEC1\\_HAEMATOPOIETIC\\_AND\\_LYMPHOID\\_TISSUE & MOLP8\\_HAEMATOPOIETIC\\_AND\\_LYMPHOID\\_TISSUE & RAJI\\_HAEMATOPOIETIC\\_AND\\_LYMPHOID\\_TISSUE\\\\\n",
       "  & <dbl> & <dbl> & <dbl> & <dbl>\\\\\n",
       "\\hline\n",
       "\tTSPAN6 &   0.21 &  0.83 &   0.10 &   0.05\\\\\n",
       "\tTNMD &   0.00 &  0.00 &   0.00 &   0.00\\\\\n",
       "\tDPM1 &  62.89 & 89.76 &  58.30 &  62.54\\\\\n",
       "\tSCYL3 &   8.03 &  6.73 &   8.26 &   3.76\\\\\n",
       "\tFIRRM &  19.71 & 11.22 &  10.05 &  12.04\\\\\n",
       "\tFGR & 119.26 & 62.63 & 102.65 & 117.44\\\\\n",
       "\\end{tabular}\n"
      ],
      "text/markdown": [
       "\n",
       "A data.frame: 6 × 4\n",
       "\n",
       "| <!--/--> | BDCM_HAEMATOPOIETIC_AND_LYMPHOID_TISSUE &lt;dbl&gt; | MEC1_HAEMATOPOIETIC_AND_LYMPHOID_TISSUE &lt;dbl&gt; | MOLP8_HAEMATOPOIETIC_AND_LYMPHOID_TISSUE &lt;dbl&gt; | RAJI_HAEMATOPOIETIC_AND_LYMPHOID_TISSUE &lt;dbl&gt; |\n",
       "|---|---|---|---|---|\n",
       "| TSPAN6 |   0.21 |  0.83 |   0.10 |   0.05 |\n",
       "| TNMD |   0.00 |  0.00 |   0.00 |   0.00 |\n",
       "| DPM1 |  62.89 | 89.76 |  58.30 |  62.54 |\n",
       "| SCYL3 |   8.03 |  6.73 |   8.26 |   3.76 |\n",
       "| FIRRM |  19.71 | 11.22 |  10.05 |  12.04 |\n",
       "| FGR | 119.26 | 62.63 | 102.65 | 117.44 |\n",
       "\n"
      ],
      "text/plain": [
       "       BDCM_HAEMATOPOIETIC_AND_LYMPHOID_TISSUE\n",
       "TSPAN6   0.21                                 \n",
       "TNMD     0.00                                 \n",
       "DPM1    62.89                                 \n",
       "SCYL3    8.03                                 \n",
       "FIRRM   19.71                                 \n",
       "FGR    119.26                                 \n",
       "       MEC1_HAEMATOPOIETIC_AND_LYMPHOID_TISSUE\n",
       "TSPAN6  0.83                                  \n",
       "TNMD    0.00                                  \n",
       "DPM1   89.76                                  \n",
       "SCYL3   6.73                                  \n",
       "FIRRM  11.22                                  \n",
       "FGR    62.63                                  \n",
       "       MOLP8_HAEMATOPOIETIC_AND_LYMPHOID_TISSUE\n",
       "TSPAN6   0.10                                  \n",
       "TNMD     0.00                                  \n",
       "DPM1    58.30                                  \n",
       "SCYL3    8.26                                  \n",
       "FIRRM   10.05                                  \n",
       "FGR    102.65                                  \n",
       "       RAJI_HAEMATOPOIETIC_AND_LYMPHOID_TISSUE\n",
       "TSPAN6   0.05                                 \n",
       "TNMD     0.00                                 \n",
       "DPM1    62.54                                 \n",
       "SCYL3    3.76                                 \n",
       "FIRRM   12.04                                 \n",
       "FGR    117.44                                 "
      ]
     },
     "metadata": {},
     "output_type": "display_data"
    }
   ],
   "source": [
    "cols <- as.data.frame(rownames(counts))\n",
    "new_names <- left_join(cols, ensembl_annot, by = c(\"rownames(counts)\" = \"ensembl_gene_id\"))\n",
    "rownames(counts) <- new_names$external_gene_name\n",
    "count_df <- as.data.frame(counts)\n",
    "head(count_df)"
   ]
  },
  {
   "cell_type": "code",
   "execution_count": 37,
   "metadata": {
    "vscode": {
     "languageId": "r"
    }
   },
   "outputs": [],
   "source": [
    "genes <- c(\n",
    "  \"LILRB1\",\n",
    "  \"LILRB2\",\n",
    "  \"LILRB3\",\n",
    "  \"LAIR1\",\n",
    "  \"LILRB3\",\n",
    "  \"LILRB4\",\n",
    "  \"LILRB5\",\n",
    "  \"LILRA1\",\n",
    "  \"LILRA2\",\n",
    "  \"LILRA3\",\n",
    "  \"LILRA4\",\n",
    "  \"LILRA5\",\n",
    "  \"LILRA6\",\n",
    "  \"MS4A1\",\n",
    "  \"CD19\"\n",
    "\n",
    ")"
   ]
  },
  {
   "cell_type": "code",
   "execution_count": 38,
   "metadata": {
    "vscode": {
     "languageId": "r"
    }
   },
   "outputs": [
    {
     "data": {
      "text/html": [
       "<table class=\"dataframe\">\n",
       "<caption>A data.frame: 13 × 4</caption>\n",
       "<thead>\n",
       "\t<tr><th></th><th scope=col>BDCM_HAEMATOPOIETIC_AND_LYMPHOID_TISSUE</th><th scope=col>MEC1_HAEMATOPOIETIC_AND_LYMPHOID_TISSUE</th><th scope=col>MOLP8_HAEMATOPOIETIC_AND_LYMPHOID_TISSUE</th><th scope=col>RAJI_HAEMATOPOIETIC_AND_LYMPHOID_TISSUE</th></tr>\n",
       "\t<tr><th></th><th scope=col>&lt;dbl&gt;</th><th scope=col>&lt;dbl&gt;</th><th scope=col>&lt;dbl&gt;</th><th scope=col>&lt;dbl&gt;</th></tr>\n",
       "</thead>\n",
       "<tbody>\n",
       "\t<tr><th scope=row>LILRB1</th><td> 58.20</td><td> 80.92</td><td>104.30</td><td> 17.12</td></tr>\n",
       "\t<tr><th scope=row>LILRA1</th><td>  0.03</td><td>  0.08</td><td>  0.01</td><td>  0.02</td></tr>\n",
       "\t<tr><th scope=row>LILRB5</th><td>  0.01</td><td>  0.05</td><td>  0.00</td><td>  0.01</td></tr>\n",
       "\t<tr><th scope=row>LILRB2</th><td>  0.02</td><td>  0.00</td><td>  0.04</td><td>  0.01</td></tr>\n",
       "\t<tr><th scope=row>MS4A1</th><td>983.18</td><td>524.18</td><td>  0.13</td><td>289.31</td></tr>\n",
       "\t<tr><th scope=row>LAIR1</th><td>  0.11</td><td>  0.30</td><td> 32.11</td><td>  0.14</td></tr>\n",
       "\t<tr><th scope=row>CD19</th><td> 82.26</td><td>153.21</td><td>  0.15</td><td>136.56</td></tr>\n",
       "\t<tr><th scope=row>LILRB4</th><td>  0.06</td><td>  9.32</td><td>  7.95</td><td>  0.04</td></tr>\n",
       "\t<tr><th scope=row>LILRA5</th><td>  0.00</td><td>  0.00</td><td>  0.00</td><td>  0.02</td></tr>\n",
       "\t<tr><th scope=row>LILRB3</th><td>  0.27</td><td>  0.56</td><td>  1.36</td><td>  0.43</td></tr>\n",
       "\t<tr><th scope=row>LILRA4</th><td>  0.17</td><td>  0.36</td><td>  0.01</td><td>  0.06</td></tr>\n",
       "\t<tr><th scope=row>LILRA2</th><td>  0.48</td><td>  2.61</td><td>  0.26</td><td>  0.01</td></tr>\n",
       "\t<tr><th scope=row>LILRA6</th><td>  0.04</td><td>  0.09</td><td>  0.00</td><td>  0.11</td></tr>\n",
       "</tbody>\n",
       "</table>\n"
      ],
      "text/latex": [
       "A data.frame: 13 × 4\n",
       "\\begin{tabular}{r|llll}\n",
       "  & BDCM\\_HAEMATOPOIETIC\\_AND\\_LYMPHOID\\_TISSUE & MEC1\\_HAEMATOPOIETIC\\_AND\\_LYMPHOID\\_TISSUE & MOLP8\\_HAEMATOPOIETIC\\_AND\\_LYMPHOID\\_TISSUE & RAJI\\_HAEMATOPOIETIC\\_AND\\_LYMPHOID\\_TISSUE\\\\\n",
       "  & <dbl> & <dbl> & <dbl> & <dbl>\\\\\n",
       "\\hline\n",
       "\tLILRB1 &  58.20 &  80.92 & 104.30 &  17.12\\\\\n",
       "\tLILRA1 &   0.03 &   0.08 &   0.01 &   0.02\\\\\n",
       "\tLILRB5 &   0.01 &   0.05 &   0.00 &   0.01\\\\\n",
       "\tLILRB2 &   0.02 &   0.00 &   0.04 &   0.01\\\\\n",
       "\tMS4A1 & 983.18 & 524.18 &   0.13 & 289.31\\\\\n",
       "\tLAIR1 &   0.11 &   0.30 &  32.11 &   0.14\\\\\n",
       "\tCD19 &  82.26 & 153.21 &   0.15 & 136.56\\\\\n",
       "\tLILRB4 &   0.06 &   9.32 &   7.95 &   0.04\\\\\n",
       "\tLILRA5 &   0.00 &   0.00 &   0.00 &   0.02\\\\\n",
       "\tLILRB3 &   0.27 &   0.56 &   1.36 &   0.43\\\\\n",
       "\tLILRA4 &   0.17 &   0.36 &   0.01 &   0.06\\\\\n",
       "\tLILRA2 &   0.48 &   2.61 &   0.26 &   0.01\\\\\n",
       "\tLILRA6 &   0.04 &   0.09 &   0.00 &   0.11\\\\\n",
       "\\end{tabular}\n"
      ],
      "text/markdown": [
       "\n",
       "A data.frame: 13 × 4\n",
       "\n",
       "| <!--/--> | BDCM_HAEMATOPOIETIC_AND_LYMPHOID_TISSUE &lt;dbl&gt; | MEC1_HAEMATOPOIETIC_AND_LYMPHOID_TISSUE &lt;dbl&gt; | MOLP8_HAEMATOPOIETIC_AND_LYMPHOID_TISSUE &lt;dbl&gt; | RAJI_HAEMATOPOIETIC_AND_LYMPHOID_TISSUE &lt;dbl&gt; |\n",
       "|---|---|---|---|---|\n",
       "| LILRB1 |  58.20 |  80.92 | 104.30 |  17.12 |\n",
       "| LILRA1 |   0.03 |   0.08 |   0.01 |   0.02 |\n",
       "| LILRB5 |   0.01 |   0.05 |   0.00 |   0.01 |\n",
       "| LILRB2 |   0.02 |   0.00 |   0.04 |   0.01 |\n",
       "| MS4A1 | 983.18 | 524.18 |   0.13 | 289.31 |\n",
       "| LAIR1 |   0.11 |   0.30 |  32.11 |   0.14 |\n",
       "| CD19 |  82.26 | 153.21 |   0.15 | 136.56 |\n",
       "| LILRB4 |   0.06 |   9.32 |   7.95 |   0.04 |\n",
       "| LILRA5 |   0.00 |   0.00 |   0.00 |   0.02 |\n",
       "| LILRB3 |   0.27 |   0.56 |   1.36 |   0.43 |\n",
       "| LILRA4 |   0.17 |   0.36 |   0.01 |   0.06 |\n",
       "| LILRA2 |   0.48 |   2.61 |   0.26 |   0.01 |\n",
       "| LILRA6 |   0.04 |   0.09 |   0.00 |   0.11 |\n",
       "\n"
      ],
      "text/plain": [
       "       BDCM_HAEMATOPOIETIC_AND_LYMPHOID_TISSUE\n",
       "LILRB1  58.20                                 \n",
       "LILRA1   0.03                                 \n",
       "LILRB5   0.01                                 \n",
       "LILRB2   0.02                                 \n",
       "MS4A1  983.18                                 \n",
       "LAIR1    0.11                                 \n",
       "CD19    82.26                                 \n",
       "LILRB4   0.06                                 \n",
       "LILRA5   0.00                                 \n",
       "LILRB3   0.27                                 \n",
       "LILRA4   0.17                                 \n",
       "LILRA2   0.48                                 \n",
       "LILRA6   0.04                                 \n",
       "       MEC1_HAEMATOPOIETIC_AND_LYMPHOID_TISSUE\n",
       "LILRB1  80.92                                 \n",
       "LILRA1   0.08                                 \n",
       "LILRB5   0.05                                 \n",
       "LILRB2   0.00                                 \n",
       "MS4A1  524.18                                 \n",
       "LAIR1    0.30                                 \n",
       "CD19   153.21                                 \n",
       "LILRB4   9.32                                 \n",
       "LILRA5   0.00                                 \n",
       "LILRB3   0.56                                 \n",
       "LILRA4   0.36                                 \n",
       "LILRA2   2.61                                 \n",
       "LILRA6   0.09                                 \n",
       "       MOLP8_HAEMATOPOIETIC_AND_LYMPHOID_TISSUE\n",
       "LILRB1 104.30                                  \n",
       "LILRA1   0.01                                  \n",
       "LILRB5   0.00                                  \n",
       "LILRB2   0.04                                  \n",
       "MS4A1    0.13                                  \n",
       "LAIR1   32.11                                  \n",
       "CD19     0.15                                  \n",
       "LILRB4   7.95                                  \n",
       "LILRA5   0.00                                  \n",
       "LILRB3   1.36                                  \n",
       "LILRA4   0.01                                  \n",
       "LILRA2   0.26                                  \n",
       "LILRA6   0.00                                  \n",
       "       RAJI_HAEMATOPOIETIC_AND_LYMPHOID_TISSUE\n",
       "LILRB1  17.12                                 \n",
       "LILRA1   0.02                                 \n",
       "LILRB5   0.01                                 \n",
       "LILRB2   0.01                                 \n",
       "MS4A1  289.31                                 \n",
       "LAIR1    0.14                                 \n",
       "CD19   136.56                                 \n",
       "LILRB4   0.04                                 \n",
       "LILRA5   0.02                                 \n",
       "LILRB3   0.43                                 \n",
       "LILRA4   0.06                                 \n",
       "LILRA2   0.01                                 \n",
       "LILRA6   0.11                                 "
      ]
     },
     "metadata": {},
     "output_type": "display_data"
    }
   ],
   "source": [
    "filtered_df <- count_df[rownames(count_df) %in% genes, ]\n",
    "filtered_df"
   ]
  },
  {
   "cell_type": "code",
   "execution_count": 39,
   "metadata": {
    "vscode": {
     "languageId": "r"
    }
   },
   "outputs": [
    {
     "data": {
      "text/html": [
       "<table class=\"dataframe\">\n",
       "<caption>A data.frame: 13 × 4</caption>\n",
       "<thead>\n",
       "\t<tr><th></th><th scope=col>BDCM Counts (tpm)</th><th scope=col>MEC1 Counts (tpm)</th><th scope=col>MOLP8 Counts (tpm)</th><th scope=col>RAJI Counts (tpm)</th></tr>\n",
       "\t<tr><th></th><th scope=col>&lt;dbl&gt;</th><th scope=col>&lt;dbl&gt;</th><th scope=col>&lt;dbl&gt;</th><th scope=col>&lt;dbl&gt;</th></tr>\n",
       "</thead>\n",
       "<tbody>\n",
       "\t<tr><th scope=row>LILRA1</th><td>  0.03</td><td>  0.08</td><td>  0.01</td><td>  0.02</td></tr>\n",
       "\t<tr><th scope=row>LILRA2</th><td>  0.48</td><td>  2.61</td><td>  0.26</td><td>  0.01</td></tr>\n",
       "\t<tr><th scope=row>LILRA4</th><td>  0.17</td><td>  0.36</td><td>  0.01</td><td>  0.06</td></tr>\n",
       "\t<tr><th scope=row>LILRA5</th><td>  0.00</td><td>  0.00</td><td>  0.00</td><td>  0.02</td></tr>\n",
       "\t<tr><th scope=row>LILRA6</th><td>  0.04</td><td>  0.09</td><td>  0.00</td><td>  0.11</td></tr>\n",
       "\t<tr><th scope=row>LILRB1</th><td> 58.20</td><td> 80.92</td><td>104.30</td><td> 17.12</td></tr>\n",
       "\t<tr><th scope=row>LILRB2</th><td>  0.02</td><td>  0.00</td><td>  0.04</td><td>  0.01</td></tr>\n",
       "\t<tr><th scope=row>LILRB3</th><td>  0.27</td><td>  0.56</td><td>  1.36</td><td>  0.43</td></tr>\n",
       "\t<tr><th scope=row>LILRB4</th><td>  0.06</td><td>  9.32</td><td>  7.95</td><td>  0.04</td></tr>\n",
       "\t<tr><th scope=row>LILRB5</th><td>  0.01</td><td>  0.05</td><td>  0.00</td><td>  0.01</td></tr>\n",
       "\t<tr><th scope=row>CD19</th><td> 82.26</td><td>153.21</td><td>  0.15</td><td>136.56</td></tr>\n",
       "\t<tr><th scope=row>LAIR1</th><td>  0.11</td><td>  0.30</td><td> 32.11</td><td>  0.14</td></tr>\n",
       "\t<tr><th scope=row>MS4A1</th><td>983.18</td><td>524.18</td><td>  0.13</td><td>289.31</td></tr>\n",
       "</tbody>\n",
       "</table>\n"
      ],
      "text/latex": [
       "A data.frame: 13 × 4\n",
       "\\begin{tabular}{r|llll}\n",
       "  & BDCM Counts (tpm) & MEC1 Counts (tpm) & MOLP8 Counts (tpm) & RAJI Counts (tpm)\\\\\n",
       "  & <dbl> & <dbl> & <dbl> & <dbl>\\\\\n",
       "\\hline\n",
       "\tLILRA1 &   0.03 &   0.08 &   0.01 &   0.02\\\\\n",
       "\tLILRA2 &   0.48 &   2.61 &   0.26 &   0.01\\\\\n",
       "\tLILRA4 &   0.17 &   0.36 &   0.01 &   0.06\\\\\n",
       "\tLILRA5 &   0.00 &   0.00 &   0.00 &   0.02\\\\\n",
       "\tLILRA6 &   0.04 &   0.09 &   0.00 &   0.11\\\\\n",
       "\tLILRB1 &  58.20 &  80.92 & 104.30 &  17.12\\\\\n",
       "\tLILRB2 &   0.02 &   0.00 &   0.04 &   0.01\\\\\n",
       "\tLILRB3 &   0.27 &   0.56 &   1.36 &   0.43\\\\\n",
       "\tLILRB4 &   0.06 &   9.32 &   7.95 &   0.04\\\\\n",
       "\tLILRB5 &   0.01 &   0.05 &   0.00 &   0.01\\\\\n",
       "\tCD19 &  82.26 & 153.21 &   0.15 & 136.56\\\\\n",
       "\tLAIR1 &   0.11 &   0.30 &  32.11 &   0.14\\\\\n",
       "\tMS4A1 & 983.18 & 524.18 &   0.13 & 289.31\\\\\n",
       "\\end{tabular}\n"
      ],
      "text/markdown": [
       "\n",
       "A data.frame: 13 × 4\n",
       "\n",
       "| <!--/--> | BDCM Counts (tpm) &lt;dbl&gt; | MEC1 Counts (tpm) &lt;dbl&gt; | MOLP8 Counts (tpm) &lt;dbl&gt; | RAJI Counts (tpm) &lt;dbl&gt; |\n",
       "|---|---|---|---|---|\n",
       "| LILRA1 |   0.03 |   0.08 |   0.01 |   0.02 |\n",
       "| LILRA2 |   0.48 |   2.61 |   0.26 |   0.01 |\n",
       "| LILRA4 |   0.17 |   0.36 |   0.01 |   0.06 |\n",
       "| LILRA5 |   0.00 |   0.00 |   0.00 |   0.02 |\n",
       "| LILRA6 |   0.04 |   0.09 |   0.00 |   0.11 |\n",
       "| LILRB1 |  58.20 |  80.92 | 104.30 |  17.12 |\n",
       "| LILRB2 |   0.02 |   0.00 |   0.04 |   0.01 |\n",
       "| LILRB3 |   0.27 |   0.56 |   1.36 |   0.43 |\n",
       "| LILRB4 |   0.06 |   9.32 |   7.95 |   0.04 |\n",
       "| LILRB5 |   0.01 |   0.05 |   0.00 |   0.01 |\n",
       "| CD19 |  82.26 | 153.21 |   0.15 | 136.56 |\n",
       "| LAIR1 |   0.11 |   0.30 |  32.11 |   0.14 |\n",
       "| MS4A1 | 983.18 | 524.18 |   0.13 | 289.31 |\n",
       "\n"
      ],
      "text/plain": [
       "       BDCM Counts (tpm) MEC1 Counts (tpm) MOLP8 Counts (tpm) RAJI Counts (tpm)\n",
       "LILRA1   0.03              0.08              0.01               0.02           \n",
       "LILRA2   0.48              2.61              0.26               0.01           \n",
       "LILRA4   0.17              0.36              0.01               0.06           \n",
       "LILRA5   0.00              0.00              0.00               0.02           \n",
       "LILRA6   0.04              0.09              0.00               0.11           \n",
       "LILRB1  58.20             80.92            104.30              17.12           \n",
       "LILRB2   0.02              0.00              0.04               0.01           \n",
       "LILRB3   0.27              0.56              1.36               0.43           \n",
       "LILRB4   0.06              9.32              7.95               0.04           \n",
       "LILRB5   0.01              0.05              0.00               0.01           \n",
       "CD19    82.26            153.21              0.15             136.56           \n",
       "LAIR1    0.11              0.30             32.11               0.14           \n",
       "MS4A1  983.18            524.18              0.13             289.31           "
      ]
     },
     "metadata": {},
     "output_type": "display_data"
    }
   ],
   "source": [
    "filtered_df <- count_df %>%\n",
    "    dplyr::filter(rownames(.) %in% genes)%>%\n",
    "    dplyr::mutate(is_lil = grepl(\"^LIL\", rownames(.))) %>% \n",
    "    dplyr::arrange(desc(is_lil), rownames(.)) %>%\n",
    "    dplyr::select(-is_lil) %>%\n",
    "    dplyr::rename(\n",
    "        `BDCM Counts (tpm)` = BDCM_HAEMATOPOIETIC_AND_LYMPHOID_TISSUE,\n",
    "        `RAJI Counts (tpm)` = RAJI_HAEMATOPOIETIC_AND_LYMPHOID_TISSUE ,\n",
    "        `MOLP8 Counts (tpm)` = MOLP8_HAEMATOPOIETIC_AND_LYMPHOID_TISSUE,\n",
    "        `MEC1 Counts (tpm)` = MEC1_HAEMATOPOIETIC_AND_LYMPHOID_TISSUE)\n",
    "filtered_df"
   ]
  },
  {
   "cell_type": "code",
   "execution_count": 40,
   "metadata": {
    "vscode": {
     "languageId": "r"
    }
   },
   "outputs": [],
   "source": [
    "write.table(filtered_df, \"result.csv\", sep = \",\", row.names = TRUE)"
   ]
  }
 ],
 "metadata": {
  "kernelspec": {
   "display_name": "R",
   "language": "R",
   "name": "ir"
  },
  "language_info": {
   "codemirror_mode": "r",
   "file_extension": ".r",
   "mimetype": "text/x-r-source",
   "name": "R",
   "pygments_lexer": "r",
   "version": "4.3.3"
  }
 },
 "nbformat": 4,
 "nbformat_minor": 2
}
